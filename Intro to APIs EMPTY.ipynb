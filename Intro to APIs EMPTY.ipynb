{
 "cells": [
  {
   "cell_type": "markdown",
   "id": "7196054f",
   "metadata": {},
   "source": [
    "# Working with APIs"
   ]
  },
  {
   "cell_type": "markdown",
   "id": "0547b71e",
   "metadata": {},
   "source": [
    "API stands for Application programming interface<br>\n",
    "APIs are a way for applications to talk to eachother<br>\n",
    "In python we use the requests package to handle the connection<br>\n",
    "<small><strong>Note: It is requests with an s not request(this is a different package)</strong></small><br>\n",
    "Most API's communicate with data in the form of JSON<br>\n",
    "JSON stands for JavaScript Object Notation"
   ]
  },
  {
   "cell_type": "code",
   "execution_count": 1,
   "id": "4db9d154",
   "metadata": {},
   "outputs": [],
   "source": [
    "#import the packages we need:\n"
   ]
  },
  {
   "cell_type": "markdown",
   "id": "e8c2ce51",
   "metadata": {},
   "source": [
    "We will be connecting to the Ergast F1 Racer API today:\n",
    "http://ergast.com/mrd/\n",
    "\n",
    "to view JSON data nicely in the Chrome browser install the extension JSONview"
   ]
  },
  {
   "cell_type": "code",
   "execution_count": null,
   "id": "52c440c6",
   "metadata": {},
   "outputs": [],
   "source": []
  },
  {
   "cell_type": "code",
   "execution_count": null,
   "id": "f60c1b4a",
   "metadata": {},
   "outputs": [],
   "source": []
  },
  {
   "cell_type": "code",
   "execution_count": 2,
   "id": "7b63a204",
   "metadata": {},
   "outputs": [],
   "source": [
    "#response object\n"
   ]
  },
  {
   "cell_type": "code",
   "execution_count": 3,
   "id": "c6d1fdaf",
   "metadata": {},
   "outputs": [],
   "source": [
    "#check and make sure we got a successful response from the API\n"
   ]
  },
  {
   "cell_type": "code",
   "execution_count": 4,
   "id": "ed4d3256",
   "metadata": {},
   "outputs": [],
   "source": [
    "#view the response as a JSON\n"
   ]
  },
  {
   "cell_type": "code",
   "execution_count": null,
   "id": "92e6cd2c",
   "metadata": {},
   "outputs": [],
   "source": []
  },
  {
   "cell_type": "code",
   "execution_count": 5,
   "id": "f074dfcf",
   "metadata": {},
   "outputs": [],
   "source": [
    "# We only want the Driver Standings\n"
   ]
  },
  {
   "cell_type": "code",
   "execution_count": null,
   "id": "be46a950",
   "metadata": {},
   "outputs": [],
   "source": []
  },
  {
   "cell_type": "code",
   "execution_count": null,
   "id": "3740c752",
   "metadata": {},
   "outputs": [],
   "source": []
  },
  {
   "cell_type": "markdown",
   "id": "6d546014",
   "metadata": {},
   "source": [
    "# <strong>Homework</strong>\n",
    "check out this Pokemon API https://pokeapi.co/\n",
    "Use the requests package to connect to this API and get and store data for 5 different pokemon.\n",
    "Get the pokemons: name, atleast one ability's name, base_experience, and the URL for its sprite (an image that shows up on screen) for the 'front_shiny', attack base_state, hp base_stat, defense base_stat"
   ]
  },
  {
   "cell_type": "code",
   "execution_count": 54,
   "id": "5a9081e3",
   "metadata": {},
   "outputs": [
    {
     "data": {
      "text/plain": [
       "{'species': 'charizard',\n",
       " 'ability': 'blaze',\n",
       " 'base_exp': 267,\n",
       " 'sprite': 'https://raw.githubusercontent.com/PokeAPI/sprites/master/sprites/pokemon/shiny/6.png',\n",
       " 'attack': 84,\n",
       " 'defense': 78,\n",
       " 'hp': 78}"
      ]
     },
     "execution_count": 54,
     "metadata": {},
     "output_type": "execute_result"
    }
   ],
   "source": [
    "import requests, json\n",
    "\n",
    "\n",
    "\n",
    "\n",
    "def poke_data(pokename):\n",
    "    response = requests.get(f\"https://pokeapi.co/api/v2/pokemon/{pokename}\")\n",
    "    if response.ok:\n",
    "        data = response.json()\n",
    "        pokeinfo = {}\n",
    "#         my_team = []\n",
    "        pokeinfo['species'] = pokename\n",
    "        pokeinfo['ability'] = data[\"abilities\"][0]['ability']['name']\n",
    "        pokeinfo['base_exp'] = data[\"base_experience\"]\n",
    "        pokeinfo['sprite'] = data['sprites']['front_shiny']\n",
    "        pokeinfo['attack'] = data['stats'][1]['base_stat']\n",
    "        pokeinfo['defense'] = data['stats'][2]['base_stat']\n",
    "        pokeinfo['hp'] = data['stats'][0]['base_stat']\n",
    "        return pokeinfo\n",
    "        \n",
    "# was trying to add a feature to put each dictionary into one list but its late and im tired\n",
    "    \n",
    "# pokename = 'charizard' \n",
    "\n",
    "poke_data('charizard')\n",
    "\n",
    "\n",
    "    \n",
    "\n",
    "\n",
    "\n"
   ]
  },
  {
   "cell_type": "code",
   "execution_count": 55,
   "id": "8587e92b",
   "metadata": {},
   "outputs": [
    {
     "data": {
      "text/plain": [
       "{'species': 'tyranitar',\n",
       " 'ability': 'sand-stream',\n",
       " 'base_exp': 300,\n",
       " 'sprite': 'https://raw.githubusercontent.com/PokeAPI/sprites/master/sprites/pokemon/shiny/248.png',\n",
       " 'attack': 134,\n",
       " 'defense': 110,\n",
       " 'hp': 100}"
      ]
     },
     "execution_count": 55,
     "metadata": {},
     "output_type": "execute_result"
    }
   ],
   "source": [
    "poke_data('tyranitar')"
   ]
  },
  {
   "cell_type": "code",
   "execution_count": 56,
   "id": "8833d336",
   "metadata": {},
   "outputs": [
    {
     "data": {
      "text/plain": [
       "{'species': 'mewtwo',\n",
       " 'ability': 'pressure',\n",
       " 'base_exp': 340,\n",
       " 'sprite': 'https://raw.githubusercontent.com/PokeAPI/sprites/master/sprites/pokemon/shiny/150.png',\n",
       " 'attack': 110,\n",
       " 'defense': 90,\n",
       " 'hp': 106}"
      ]
     },
     "execution_count": 56,
     "metadata": {},
     "output_type": "execute_result"
    }
   ],
   "source": [
    "poke_data('mewtwo')"
   ]
  },
  {
   "cell_type": "code",
   "execution_count": 57,
   "id": "5d21ed39",
   "metadata": {},
   "outputs": [
    {
     "data": {
      "text/plain": [
       "{'species': 'scizor',\n",
       " 'ability': 'swarm',\n",
       " 'base_exp': 175,\n",
       " 'sprite': 'https://raw.githubusercontent.com/PokeAPI/sprites/master/sprites/pokemon/shiny/212.png',\n",
       " 'attack': 130,\n",
       " 'defense': 100,\n",
       " 'hp': 70}"
      ]
     },
     "execution_count": 57,
     "metadata": {},
     "output_type": "execute_result"
    }
   ],
   "source": [
    "poke_data('scizor')"
   ]
  },
  {
   "cell_type": "code",
   "execution_count": 58,
   "id": "15eb8749",
   "metadata": {},
   "outputs": [
    {
     "data": {
      "text/plain": [
       "{'species': 'zapdos',\n",
       " 'ability': 'pressure',\n",
       " 'base_exp': 290,\n",
       " 'sprite': 'https://raw.githubusercontent.com/PokeAPI/sprites/master/sprites/pokemon/shiny/145.png',\n",
       " 'attack': 90,\n",
       " 'defense': 85,\n",
       " 'hp': 90}"
      ]
     },
     "execution_count": 58,
     "metadata": {},
     "output_type": "execute_result"
    }
   ],
   "source": [
    "poke_data('zapdos')"
   ]
  },
  {
   "cell_type": "code",
   "execution_count": 59,
   "id": "6edf2499",
   "metadata": {},
   "outputs": [
    {
     "data": {
      "text/plain": [
       "{'species': 'snorlax',\n",
       " 'ability': 'immunity',\n",
       " 'base_exp': 189,\n",
       " 'sprite': 'https://raw.githubusercontent.com/PokeAPI/sprites/master/sprites/pokemon/shiny/143.png',\n",
       " 'attack': 110,\n",
       " 'defense': 65,\n",
       " 'hp': 160}"
      ]
     },
     "execution_count": 59,
     "metadata": {},
     "output_type": "execute_result"
    }
   ],
   "source": [
    "poke_data('snorlax')"
   ]
  },
  {
   "cell_type": "code",
   "execution_count": null,
   "id": "e3811221",
   "metadata": {},
   "outputs": [],
   "source": []
  }
 ],
 "metadata": {
  "kernelspec": {
   "display_name": "Python 3 (ipykernel)",
   "language": "python",
   "name": "python3"
  },
  "language_info": {
   "codemirror_mode": {
    "name": "ipython",
    "version": 3
   },
   "file_extension": ".py",
   "mimetype": "text/x-python",
   "name": "python",
   "nbconvert_exporter": "python",
   "pygments_lexer": "ipython3",
   "version": "3.10.9"
  }
 },
 "nbformat": 4,
 "nbformat_minor": 5
}
